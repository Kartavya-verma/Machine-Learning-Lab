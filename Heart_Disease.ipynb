{
  "nbformat": 4,
  "nbformat_minor": 0,
  "metadata": {
    "colab": {
      "name": "Untitled4.ipynb",
      "provenance": []
    },
    "kernelspec": {
      "name": "python3",
      "display_name": "Python 3"
    },
    "language_info": {
      "name": "python"
    }
  },
  "cells": [
    {
      "cell_type": "code",
      "metadata": {
        "id": "87QFvlzVlBNZ"
      },
      "source": [
        "disease_df = pd.read_csv(\"/\")\n",
        "disease_df.drop(['education'], inplace = True, axis = 1)\n",
        "disease_df.rename(columns ={'male':'Sex_male'}, inplace = True)\n",
        "\n",
        "# removing NaN / NULL values\n",
        "disease_df.dropna(axis = 0, inplace = True)\n",
        "print(disease_df.head(), disease_df.shape)\n",
        "print(disease_df.TenYearCHD.value_counts())\n",
        "\n",
        "\n",
        "laste = disease_df['TenYearCHD'].plot()\n",
        "plt.show(laste)\n",
        "\n",
        "X = np.asarray(disease_df[['age', 'Sex_male', 'cigsPerDay',\n",
        "\t\t\t\t\t\t'totChol', 'sysBP', 'glucose']])\n",
        "y = np.asarray(disease_df['TenYearCHD'])\n",
        "\n",
        "# normalization of the datset\n",
        "X = preprocessing.StandardScaler().fit(X).transform(X)\n",
        "\n",
        "# Train-and-Test -Split\n",
        "from sklearn.model_selection import train_test_split\n",
        "X_train, X_test, y_train, y_test = train_test_split(\n",
        "\t\tX, y, test_size = 0.3, random_state = 4)\n",
        "print ('Train set:', X_train.shape, y_train.shape)\n",
        "print ('Test set:', X_test.shape, y_test.shape)\n",
        "\n",
        "from sklearn.linear_model import LogisticRegression\n",
        "logreg = LogisticRegression()\n",
        "logreg.fit(X_train, y_train)\n",
        "y_pred = logreg.predict(X_test)\n",
        "\n",
        "# Evaluation and accuracy\n",
        "from sklearn.metrics import jaccard_similarity_score\n",
        "print('')\n",
        "print('Accuracy of the model in jaccard similarity score is = ',\n",
        "\tjaccard_similarity_score(y_test, y_pred))\n",
        "\n",
        "\n",
        "# Confusion matrix\n",
        "from sklearn.metrics import confusion_matrix, classification_report\n",
        "\n",
        "cm = confusion_matrix(y_test, y_pred)\n",
        "conf_matrix = pd.DataFrame(data = cm,\n",
        "\t\t\t\t\t\tcolumns = ['Predicted:0', 'Predicted:1'],\n",
        "\t\t\t\t\t\tindex =['Actual:0', 'Actual:1'])\n",
        "plt.figure(figsize = (8, 5))\n",
        "sn.heatmap(conf_matrix, annot = True, fmt = 'd', cmap = \"Greens\")\n",
        "plt.show()\n",
        "\n",
        "print('The details for confusion matrix is =')\n",
        "print (classification_report(y_test, y_pred))\n",
        "\n",
        "# This code is contributed by parna_28 .\n"
      ],
      "execution_count": null,
      "outputs": []
    }
  ]
}